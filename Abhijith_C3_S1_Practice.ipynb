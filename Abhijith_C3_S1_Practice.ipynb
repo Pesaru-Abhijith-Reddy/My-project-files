{
 "cells": [
  {
   "cell_type": "markdown",
   "id": "8451d31e",
   "metadata": {},
   "source": [
    "# Task 1 : Data Vectorization"
   ]
  },
  {
   "cell_type": "markdown",
   "id": "ab6fe2b7",
   "metadata": {},
   "source": [
    "## Task 1.1 :Load the 'Movie Review' Corpus data through sKLearn"
   ]
  },
  {
   "cell_type": "code",
   "execution_count": 14,
   "id": "72dacf23",
   "metadata": {},
   "outputs": [],
   "source": [
    "import sklearn\n",
    "from sklearn.datasets import load_files\n",
    " \n",
    "moviedir = './movie_reviews/movie_reviews'                   #path for data file\n",
    "movie_data = load_files(moviedir, shuffle=True)              #Loading data file"
   ]
  },
  {
   "cell_type": "markdown",
   "id": "dfa85b8f",
   "metadata": {},
   "source": [
    "## Task 1.2 : Split the data into training and test sets "
   ]
  },
  {
   "cell_type": "code",
   "execution_count": 15,
   "id": "1422556b",
   "metadata": {},
   "outputs": [],
   "source": [
    "import nltk\n",
    "from sklearn.feature_extraction.text import CountVectorizer\n",
    "from sklearn.feature_extraction.text import TfidfVectorizer\n",
    "from sklearn.model_selection import train_test_split\n",
    "\n",
    "# Split data into training and test sets\n",
    "reviews_train, reviews_test, y_train, y_test = train_test_split(\n",
    "    movie_data.data, movie_data.target, test_size = 0.20, random_state = 12)"
   ]
  },
  {
   "cell_type": "markdown",
   "id": "330f1031",
   "metadata": {},
   "source": [
    "## Task 1.3 : Vectorize the training data using the tfidf Vectorizer "
   ]
  },
  {
   "cell_type": "code",
   "execution_count": 16,
   "id": "616198d6",
   "metadata": {},
   "outputs": [
    {
     "name": "stderr",
     "output_type": "stream",
     "text": [
      "[nltk_data] Downloading package stopwords to C:\\Users\\ABIKJITH\n",
      "[nltk_data]     REDDY\\AppData\\Roaming\\nltk_data...\n",
      "[nltk_data]   Package stopwords is already up-to-date!\n"
     ]
    },
    {
     "name": "stdout",
     "output_type": "stream",
     "text": [
      "X_train n_samples: 1600, n_features: 35716\n"
     ]
    }
   ],
   "source": [
    "nltk.download('stopwords')\n",
    "from nltk.corpus import stopwords\n",
    "vectorizer = TfidfVectorizer(\n",
    "        sublinear_tf=True, # Apply sublinear tf scaling, i.e. replace tf with 1 + log(tf).\n",
    "        max_df=0.5, # ignore terms that appaer in more than that fraction of docs \n",
    "        min_df=1, #  ignore terms that have lower document frequency \n",
    "        stop_words=stopwords.words('english'),\n",
    "        use_idf=True, # Enable inverse-document-frequency reweighting.\n",
    "        smooth_idf=True) # Smooth idf weights by adding one to document frequencies\n",
    "X_train = vectorizer.fit_transform(reviews_train)\n",
    "print(\"X_train n_samples: %d, n_features: %d\" % X_train.shape)\n"
   ]
  },
  {
   "cell_type": "markdown",
   "id": "77fa2150",
   "metadata": {},
   "source": [
    "## Task 1.4 Vectorize test data using the same method above "
   ]
  },
  {
   "cell_type": "code",
   "execution_count": 17,
   "id": "130fee18",
   "metadata": {},
   "outputs": [
    {
     "name": "stdout",
     "output_type": "stream",
     "text": [
      "X_test n_samples: 400, n_features: 35716\n"
     ]
    }
   ],
   "source": [
    "X_test = vectorizer.transform(reviews_test)                      #test data for vectorization\n",
    "print(\"X_test n_samples: %d, n_features: %d\" % X_test.shape)"
   ]
  },
  {
   "cell_type": "code",
   "execution_count": 29,
   "id": "a4a72107",
   "metadata": {},
   "outputs": [
    {
     "data": {
      "text/plain": [
       "array([0.03900147, 0.05148288, 0.05319276, ..., 0.04845109, 0.02744433,\n",
       "       0.04137382])"
      ]
     },
     "execution_count": 29,
     "metadata": {},
     "output_type": "execute_result"
    }
   ],
   "source": [
    "X_test.data"
   ]
  },
  {
   "cell_type": "code",
   "execution_count": 18,
   "id": "d8be7977",
   "metadata": {},
   "outputs": [
    {
     "data": {
      "text/plain": [
       "['i', 'me', 'my', 'myself', 'we', 'our', 'ours', 'ourselves', 'you']"
      ]
     },
     "execution_count": 18,
     "metadata": {},
     "output_type": "execute_result"
    }
   ],
   "source": [
    "stop_words = stopwords.words('english')\n",
    "stop_words[:9]"
   ]
  },
  {
   "cell_type": "markdown",
   "id": "e51f7050",
   "metadata": {},
   "source": [
    "# Task 2 : Apply Logistic Regression with L2-Regularization. (Use regularization parameter C = 1.0)   "
   ]
  },
  {
   "cell_type": "code",
   "execution_count": 19,
   "id": "b7e6e222",
   "metadata": {},
   "outputs": [],
   "source": [
    "# Train a Logistic Regression classifier\n",
    "from sklearn.linear_model import LogisticRegression\n",
    "\n",
    "clf = LogisticRegression(penalty='l2', C=1).fit(X_train, y_train)                    #Logistic regression with regularization parameter C=1"
   ]
  },
  {
   "cell_type": "markdown",
   "id": "02e2924f",
   "metadata": {},
   "source": [
    "# Task 3: Performance evaluation "
   ]
  },
  {
   "cell_type": "markdown",
   "id": "b8735148",
   "metadata": {},
   "source": [
    "## Task 3.1 : Examine the performance of the classifier used in  task 2 (i.e.F1 Scores, train and test time)   "
   ]
  },
  {
   "cell_type": "code",
   "execution_count": 20,
   "id": "d1ececd1",
   "metadata": {},
   "outputs": [
    {
     "name": "stdout",
     "output_type": "stream",
     "text": [
      "y_pred[:15] = [0 0 1 0 1 0 1 0 0 1 1 0 1 0 1]\n",
      "accuracy = 0.86 \n",
      "precision = 0.84 \n",
      "recall = 0.88 \n",
      "f1 = 0.86\n",
      "confusion matrix (rows are true counts)\n",
      " ['neg', 'pos'] \n",
      " [[173  33]\n",
      " [ 23 171]]\n"
     ]
    }
   ],
   "source": [
    "# Predicting the Test set results, find accuracy\n",
    "y_pred = clf.predict(X_test)\n",
    "print('y_pred[:15] =',y_pred[:15])\n",
    "acc = sklearn.metrics.accuracy_score(y_test, y_pred)\n",
    "# precision = ability of classifier not to label as positive a sample that is negative\n",
    "prec = round(sklearn.metrics.precision_score(y_test, y_pred),2)\n",
    "# recall = ability of classifier to find all the positive samples\n",
    "rec = round(sklearn.metrics.recall_score(y_test, y_pred),2)\n",
    "f1 = round(sklearn.metrics.f1_score(y_test, y_pred),2)\n",
    "print('accuracy =',acc, '\\nprecision =', prec, '\\nrecall =', rec, '\\nf1 =',f1)\n",
    "\n",
    "# Making the Confusion Matrix\n",
    "from sklearn.metrics import confusion_matrix\n",
    "cm = confusion_matrix(y_test, y_pred)\n",
    "print('confusion matrix (rows are true counts)\\n',movie_data.target_names,'\\n',cm)"
   ]
  },
  {
   "cell_type": "code",
   "execution_count": 21,
   "id": "50f54e84",
   "metadata": {},
   "outputs": [],
   "source": [
    "import time             #importing time library"
   ]
  },
  {
   "cell_type": "code",
   "execution_count": 22,
   "id": "78a09c93",
   "metadata": {},
   "outputs": [
    {
     "name": "stdout",
     "output_type": "stream",
     "text": [
      "Total time taken for train 0.11504983901977539 \n"
     ]
    }
   ],
   "source": [
    "st = time.time()                                           # st is start time \n",
    "\n",
    "clf = LogisticRegression(C=1).fit(X_train, y_train)\n",
    "\n",
    "et = time.time()                                          #et is end time calculated using time.time()\n",
    "ttrain = et-st\n",
    "print(\"Total time taken for train {} \".format(ttrain))"
   ]
  },
  {
   "cell_type": "code",
   "execution_count": 23,
   "id": "0baaac43",
   "metadata": {},
   "outputs": [
    {
     "name": "stdout",
     "output_type": "stream",
     "text": [
      "Total time taken for test 0.0009996891021728516\n"
     ]
    }
   ],
   "source": [
    "st = time.time()\n",
    "\n",
    "y_pred = clf.predict(X_test)\n",
    "\n",
    "et = time.time()\n",
    "ttest = et-st\n",
    "print(\"Total time taken for test {}\".format(ttest))"
   ]
  },
  {
   "cell_type": "code",
   "execution_count": 24,
   "id": "5ae9a25b",
   "metadata": {},
   "outputs": [],
   "source": [
    "import matplotlib.pyplot as plt"
   ]
  },
  {
   "cell_type": "code",
   "execution_count": 25,
   "id": "d57d6849",
   "metadata": {},
   "outputs": [
    {
     "data": {
      "image/png": "[encoded data removed]",
      "text/plain": [
       "<Figure size 720x576 with 1 Axes>"
      ]
     },
     "metadata": {
      "needs_background": "light"
     },
     "output_type": "display_data"
    }
   ],
   "source": [
    "data = {'Train time':ttrain, 'Test time':ttest,'F1-Score':f1}                  #Dictinary of labels and values\n",
    "time = list(data.keys())                                         #list of labels\n",
    "values= list(data.values())                                      #list of values\n",
    "\n",
    "fig = plt.figure(figsize=(10,8))                                 # setting figure size\n",
    "\n",
    "\n",
    "\n",
    "plt.bar(time,values,color=['y','g','r'])                            #plotting bar graph using matplotlib library\n",
    "\n",
    "\n",
    "plt.xlabel(\"X-axis\")                                           #setting x-axis title\n",
    "plt.ylabel(\"Time Taken\")                                       #setting y-axis title\n",
    "plt.title(\"Time taken by train and test\")                      # Title of the graph\n",
    "plt.show()"
   ]
  },
  {
   "cell_type": "code",
   "execution_count": 26,
   "id": "7fdf1ff9",
   "metadata": {},
   "outputs": [
    {
     "data": {
      "image/png": "[encoded data removed]",
      "text/plain": [
       "<Figure size 720x432 with 1 Axes>"
      ]
     },
     "metadata": {
      "needs_background": "light"
     },
     "output_type": "display_data"
    }
   ],
   "source": [
    "data1 = {\"F1_score\":f1,\"recall\":rec,\"precision\":prec,\"accuracy\":acc}\n",
    "scores = list(data1.keys())\n",
    "values = list(data1.values())\n",
    "\n",
    "plt.figure(figsize=(10,6))\n",
    "\n",
    "\n",
    "\n",
    "plt.bar(scores,values,color=[\"r\",\"y\",\"b\",\"g\"])\n",
    "plt.xlabel(\"Scores\")\n",
    "plt.ylabel(\"Score values\")\n",
    "plt.title(\"Perfotmance evaluation\")\n",
    "plt.show()"
   ]
  },
  {
   "cell_type": "code",
   "execution_count": null,
   "id": "40470166",
   "metadata": {},
   "outputs": [],
   "source": []
  },
  {
   "cell_type": "code",
   "execution_count": null,
   "id": "0681a916",
   "metadata": {},
   "outputs": [],
   "source": []
  }
 ],
 "metadata": {
  "kernelspec": {
   "display_name": "Python 3 (ipykernel)",
   "language": "python",
   "name": "python3"
  },
  "language_info": {
   "codemirror_mode": {
    "name": "ipython",
    "version": 3
   },
   "file_extension": ".py",
   "mimetype": "text/x-python",
   "name": "python",
   "nbconvert_exporter": "python",
   "pygments_lexer": "ipython3",
   "version": "3.9.7"
  }
 },
 "nbformat": 4,
 "nbformat_minor": 5
}
