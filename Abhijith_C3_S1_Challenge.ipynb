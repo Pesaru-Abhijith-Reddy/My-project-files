{
 "cells": [
  {
   "cell_type": "markdown",
   "id": "c4ddf272",
   "metadata": {},
   "source": [
    "# Task 1 : Data selection"
   ]
  },
  {
   "cell_type": "markdown",
   "id": "c94e51db",
   "metadata": {},
   "source": [
    "# Task 1.1 : Display all 20 categories present in the input dataset"
   ]
  },
  {
   "cell_type": "code",
   "execution_count": 1,
   "id": "a8bfb980",
   "metadata": {},
   "outputs": [
    {
     "data": {
      "text/plain": [
       "['alt.atheism',\n",
       " 'comp.graphics',\n",
       " 'comp.os.ms-windows.misc',\n",
       " 'comp.sys.ibm.pc.hardware',\n",
       " 'comp.sys.mac.hardware',\n",
       " 'comp.windows.x',\n",
       " 'misc.forsale',\n",
       " 'rec.autos',\n",
       " 'rec.motorcycles',\n",
       " 'rec.sport.baseball',\n",
       " 'rec.sport.hockey',\n",
       " 'sci.crypt',\n",
       " 'sci.electronics',\n",
       " 'sci.med',\n",
       " 'sci.space',\n",
       " 'soc.religion.christian',\n",
       " 'talk.politics.guns',\n",
       " 'talk.politics.mideast',\n",
       " 'talk.politics.misc',\n",
       " 'talk.religion.misc']"
      ]
     },
     "execution_count": 1,
     "metadata": {},
     "output_type": "execute_result"
    }
   ],
   "source": [
    "from sklearn.datasets import fetch_20newsgroups\n",
    "newsgroup_data = fetch_20newsgroups()\n",
    "newsgroup_data.target_names"
   ]
  },
  {
   "cell_type": "markdown",
   "id": "bdc4038f",
   "metadata": {},
   "source": [
    "## Task 1.2 : Select the input data based on two categories \n",
    "## a) 'rec.motorcycles'\n",
    "## b)'sci.electronics'"
   ]
  },
  {
   "cell_type": "code",
   "execution_count": 2,
   "id": "a449124e",
   "metadata": {},
   "outputs": [],
   "source": [
    "categories = ['rec.motorcycles', 'sci.electronics']\n",
    "train = fetch_20newsgroups(subset='train',categories=categories)"
   ]
  },
  {
   "cell_type": "code",
   "execution_count": 3,
   "id": "78e740a6",
   "metadata": {},
   "outputs": [],
   "source": [
    "test = fetch_20newsgroups(subset='test',categories=categories)"
   ]
  },
  {
   "cell_type": "markdown",
   "id": "999393d3",
   "metadata": {},
   "source": [
    "# Task 2 : Training and Testing "
   ]
  },
  {
   "cell_type": "markdown",
   "id": "e1a95cd8",
   "metadata": {},
   "source": [
    "## convert text data into vector form."
   ]
  },
  {
   "cell_type": "code",
   "execution_count": 4,
   "id": "1dc42466",
   "metadata": {},
   "outputs": [],
   "source": [
    "import nltk\n",
    "from sklearn.feature_extraction.text import CountVectorizer\n",
    "from sklearn.feature_extraction.text import TfidfVectorizer"
   ]
  },
  {
   "cell_type": "code",
   "execution_count": 5,
   "id": "895d3d49",
   "metadata": {},
   "outputs": [
    {
     "name": "stdout",
     "output_type": "stream",
     "text": [
      "X_train n_samples: 1189, n_features: 19592\n"
     ]
    },
    {
     "name": "stderr",
     "output_type": "stream",
     "text": [
      "[nltk_data] Downloading package stopwords to C:\\Users\\ABIKJITH\n",
      "[nltk_data]     REDDY\\AppData\\Roaming\\nltk_data...\n",
      "[nltk_data]   Package stopwords is already up-to-date!\n"
     ]
    }
   ],
   "source": [
    "nltk.download('stopwords')\n",
    "from nltk.corpus import stopwords\n",
    "vectorizer = TfidfVectorizer(\n",
    "        sublinear_tf=True, # Apply sublinear tf scaling, i.e. replace tf with 1 + log(tf).\n",
    "        max_df=0.5, # ignore terms that appaer in more than that fraction of docs \n",
    "        min_df=1, #  ignore terms that have lower document frequency \n",
    "        stop_words=stopwords.words('english'),\n",
    "        use_idf=True, # Enable inverse-document-frequency reweighting.\n",
    "        smooth_idf=True) # Smooth idf weights by adding one to document frequencies\n",
    "X_train = vectorizer.fit_transform(train.data)\n",
    "print(\"X_train n_samples: %d, n_features: %d\" % X_train.shape)\n"
   ]
  },
  {
   "cell_type": "code",
   "execution_count": 6,
   "id": "172ee597",
   "metadata": {},
   "outputs": [
    {
     "data": {
      "text/plain": [
       "array([0.04065118, 0.05379061, 0.06787162, ..., 0.10105695, 0.06094588,\n",
       "       0.08078682])"
      ]
     },
     "execution_count": 6,
     "metadata": {},
     "output_type": "execute_result"
    }
   ],
   "source": [
    "X_train.data"
   ]
  },
  {
   "cell_type": "code",
   "execution_count": 7,
   "id": "f79506d7",
   "metadata": {},
   "outputs": [
    {
     "name": "stdout",
     "output_type": "stream",
     "text": [
      "X_test n_samples: 791, n_features: 19592\n"
     ]
    }
   ],
   "source": [
    "X_test = vectorizer.transform(test.data)                      #test data for vectorization\n",
    "print(\"X_test n_samples: %d, n_features: %d\" % X_test.shape)"
   ]
  },
  {
   "cell_type": "code",
   "execution_count": 8,
   "id": "44c6da94",
   "metadata": {},
   "outputs": [
    {
     "data": {
      "text/plain": [
       "<791x19592 sparse matrix of type '<class 'numpy.float64'>'\n",
       "\twith 64986 stored elements in Compressed Sparse Row format>"
      ]
     },
     "execution_count": 8,
     "metadata": {},
     "output_type": "execute_result"
    }
   ],
   "source": [
    "X_test"
   ]
  },
  {
   "cell_type": "code",
   "execution_count": 9,
   "id": "a1c9b7b7",
   "metadata": {},
   "outputs": [
    {
     "data": {
      "text/plain": [
       "['i', 'me', 'my', 'myself', 'we', 'our', 'ours', 'ourselves', 'you']"
      ]
     },
     "execution_count": 9,
     "metadata": {},
     "output_type": "execute_result"
    }
   ],
   "source": [
    "stop_words = stopwords.words('english')\n",
    "stop_words[:9]"
   ]
  },
  {
   "cell_type": "markdown",
   "id": "ce366518",
   "metadata": {},
   "source": [
    "## Task 2.2 : Apply logistic regression "
   ]
  },
  {
   "cell_type": "code",
   "execution_count": 10,
   "id": "feeb9507",
   "metadata": {},
   "outputs": [],
   "source": [
    "# Train a Logistic Regression classifier\n",
    "from sklearn.linear_model import LogisticRegression\n",
    "\n",
    "clf = LogisticRegression().fit(X_train,train.target) "
   ]
  },
  {
   "cell_type": "markdown",
   "id": "adbf11e8",
   "metadata": {},
   "source": [
    "## Task 2.3 : Print the first 30  samples of predicted and actual output "
   ]
  },
  {
   "cell_type": "code",
   "execution_count": 11,
   "id": "258ffcf4",
   "metadata": {},
   "outputs": [],
   "source": [
    "pred = clf.predict(X_test)"
   ]
  },
  {
   "cell_type": "code",
   "execution_count": 12,
   "id": "622d08a1",
   "metadata": {},
   "outputs": [
    {
     "data": {
      "text/plain": [
       "(791,)"
      ]
     },
     "execution_count": 12,
     "metadata": {},
     "output_type": "execute_result"
    }
   ],
   "source": [
    "pred.shape"
   ]
  },
  {
   "cell_type": "code",
   "execution_count": 13,
   "id": "f31f8af1",
   "metadata": {},
   "outputs": [
    {
     "data": {
      "text/plain": [
       "array([1, 0, 0, 0, 0, 0, 1, 1, 0, 0, 1, 1, 0, 0, 1, 0, 0, 1, 0, 0, 0, 0,\n",
       "       1, 0, 0, 1, 0, 1, 1, 0], dtype=int64)"
      ]
     },
     "execution_count": 13,
     "metadata": {},
     "output_type": "execute_result"
    }
   ],
   "source": [
    "pred[0:30]"
   ]
  },
  {
   "cell_type": "code",
   "execution_count": 14,
   "id": "8b3f646b",
   "metadata": {},
   "outputs": [],
   "source": [
    "import pandas as pd\n",
    "df = pd.DataFrame({\"Actual\":test.target,\"Predicted\":pred})"
   ]
  },
  {
   "cell_type": "code",
   "execution_count": 15,
   "id": "2d46989e",
   "metadata": {},
   "outputs": [
    {
     "data": {
      "text/html": [
       "<div>\n",
       "<style scoped>\n",
       "    .dataframe tbody tr th:only-of-type {\n",
       "        vertical-align: middle;\n",
       "    }\n",
       "\n",
       "    .dataframe tbody tr th {\n",
       "        vertical-align: top;\n",
       "    }\n",
       "\n",
       "    .dataframe thead th {\n",
       "        text-align: right;\n",
       "    }\n",
       "</style>\n",
       "<table border=\"1\" class=\"dataframe\">\n",
       "  <thead>\n",
       "    <tr style=\"text-align: right;\">\n",
       "      <th></th>\n",
       "      <th>Actual</th>\n",
       "      <th>Predicted</th>\n",
       "    </tr>\n",
       "  </thead>\n",
       "  <tbody>\n",
       "    <tr>\n",
       "      <th>0</th>\n",
       "      <td>1</td>\n",
       "      <td>1</td>\n",
       "    </tr>\n",
       "    <tr>\n",
       "      <th>1</th>\n",
       "      <td>0</td>\n",
       "      <td>0</td>\n",
       "    </tr>\n",
       "    <tr>\n",
       "      <th>2</th>\n",
       "      <td>0</td>\n",
       "      <td>0</td>\n",
       "    </tr>\n",
       "    <tr>\n",
       "      <th>3</th>\n",
       "      <td>0</td>\n",
       "      <td>0</td>\n",
       "    </tr>\n",
       "    <tr>\n",
       "      <th>4</th>\n",
       "      <td>0</td>\n",
       "      <td>0</td>\n",
       "    </tr>\n",
       "    <tr>\n",
       "      <th>5</th>\n",
       "      <td>0</td>\n",
       "      <td>0</td>\n",
       "    </tr>\n",
       "    <tr>\n",
       "      <th>6</th>\n",
       "      <td>1</td>\n",
       "      <td>1</td>\n",
       "    </tr>\n",
       "    <tr>\n",
       "      <th>7</th>\n",
       "      <td>1</td>\n",
       "      <td>1</td>\n",
       "    </tr>\n",
       "    <tr>\n",
       "      <th>8</th>\n",
       "      <td>0</td>\n",
       "      <td>0</td>\n",
       "    </tr>\n",
       "    <tr>\n",
       "      <th>9</th>\n",
       "      <td>0</td>\n",
       "      <td>0</td>\n",
       "    </tr>\n",
       "    <tr>\n",
       "      <th>10</th>\n",
       "      <td>1</td>\n",
       "      <td>1</td>\n",
       "    </tr>\n",
       "    <tr>\n",
       "      <th>11</th>\n",
       "      <td>1</td>\n",
       "      <td>1</td>\n",
       "    </tr>\n",
       "    <tr>\n",
       "      <th>12</th>\n",
       "      <td>0</td>\n",
       "      <td>0</td>\n",
       "    </tr>\n",
       "    <tr>\n",
       "      <th>13</th>\n",
       "      <td>0</td>\n",
       "      <td>0</td>\n",
       "    </tr>\n",
       "    <tr>\n",
       "      <th>14</th>\n",
       "      <td>1</td>\n",
       "      <td>1</td>\n",
       "    </tr>\n",
       "    <tr>\n",
       "      <th>15</th>\n",
       "      <td>0</td>\n",
       "      <td>0</td>\n",
       "    </tr>\n",
       "    <tr>\n",
       "      <th>16</th>\n",
       "      <td>0</td>\n",
       "      <td>0</td>\n",
       "    </tr>\n",
       "    <tr>\n",
       "      <th>17</th>\n",
       "      <td>1</td>\n",
       "      <td>1</td>\n",
       "    </tr>\n",
       "    <tr>\n",
       "      <th>18</th>\n",
       "      <td>0</td>\n",
       "      <td>0</td>\n",
       "    </tr>\n",
       "    <tr>\n",
       "      <th>19</th>\n",
       "      <td>0</td>\n",
       "      <td>0</td>\n",
       "    </tr>\n",
       "    <tr>\n",
       "      <th>20</th>\n",
       "      <td>0</td>\n",
       "      <td>0</td>\n",
       "    </tr>\n",
       "    <tr>\n",
       "      <th>21</th>\n",
       "      <td>0</td>\n",
       "      <td>0</td>\n",
       "    </tr>\n",
       "    <tr>\n",
       "      <th>22</th>\n",
       "      <td>1</td>\n",
       "      <td>1</td>\n",
       "    </tr>\n",
       "    <tr>\n",
       "      <th>23</th>\n",
       "      <td>0</td>\n",
       "      <td>0</td>\n",
       "    </tr>\n",
       "    <tr>\n",
       "      <th>24</th>\n",
       "      <td>0</td>\n",
       "      <td>0</td>\n",
       "    </tr>\n",
       "    <tr>\n",
       "      <th>25</th>\n",
       "      <td>1</td>\n",
       "      <td>1</td>\n",
       "    </tr>\n",
       "    <tr>\n",
       "      <th>26</th>\n",
       "      <td>0</td>\n",
       "      <td>0</td>\n",
       "    </tr>\n",
       "    <tr>\n",
       "      <th>27</th>\n",
       "      <td>1</td>\n",
       "      <td>1</td>\n",
       "    </tr>\n",
       "    <tr>\n",
       "      <th>28</th>\n",
       "      <td>1</td>\n",
       "      <td>1</td>\n",
       "    </tr>\n",
       "    <tr>\n",
       "      <th>29</th>\n",
       "      <td>0</td>\n",
       "      <td>0</td>\n",
       "    </tr>\n",
       "  </tbody>\n",
       "</table>\n",
       "</div>"
      ],
      "text/plain": [
       "    Actual  Predicted\n",
       "0        1          1\n",
       "1        0          0\n",
       "2        0          0\n",
       "3        0          0\n",
       "4        0          0\n",
       "5        0          0\n",
       "6        1          1\n",
       "7        1          1\n",
       "8        0          0\n",
       "9        0          0\n",
       "10       1          1\n",
       "11       1          1\n",
       "12       0          0\n",
       "13       0          0\n",
       "14       1          1\n",
       "15       0          0\n",
       "16       0          0\n",
       "17       1          1\n",
       "18       0          0\n",
       "19       0          0\n",
       "20       0          0\n",
       "21       0          0\n",
       "22       1          1\n",
       "23       0          0\n",
       "24       0          0\n",
       "25       1          1\n",
       "26       0          0\n",
       "27       1          1\n",
       "28       1          1\n",
       "29       0          0"
      ]
     },
     "execution_count": 15,
     "metadata": {},
     "output_type": "execute_result"
    }
   ],
   "source": [
    "df.head(30)"
   ]
  },
  {
   "cell_type": "markdown",
   "id": "731e3394",
   "metadata": {},
   "source": [
    "## Task 2.4 : Find accuracy, precision, recall, and F1 score "
   ]
  },
  {
   "cell_type": "code",
   "execution_count": 16,
   "id": "3a743def",
   "metadata": {},
   "outputs": [
    {
     "name": "stdout",
     "output_type": "stream",
     "text": [
      "accuracy = 0.9860935524652339 \n",
      "precision = 0.98 \n",
      "recall = 0.99 \n",
      "f1 = 0.99\n"
     ]
    }
   ],
   "source": [
    "import sklearn\n",
    "acc = sklearn.metrics.accuracy_score(test.target, pred)\n",
    "# precision = ability of classifier not to label as positive a sample that is negative\n",
    "prec = round(sklearn.metrics.precision_score(test.target, pred),2)\n",
    "# recall = ability of classifier to find all the positive samples\n",
    "rec = round(sklearn.metrics.recall_score(test.target, pred),2)\n",
    "f1 = round(sklearn.metrics.f1_score(test.target, pred),2)\n",
    "print('accuracy =',acc, '\\nprecision =', prec, '\\nrecall =', rec, '\\nf1 =',f1)"
   ]
  },
  {
   "cell_type": "markdown",
   "id": "163b5b16",
   "metadata": {},
   "source": [
    "# Task 3 : Implementation of  Naive Bayes Algorithm"
   ]
  },
  {
   "cell_type": "markdown",
   "id": "f9b25cab",
   "metadata": {},
   "source": [
    "## Task 3.2 : Apply Naive Bayes algorithm "
   ]
  },
  {
   "cell_type": "code",
   "execution_count": 17,
   "id": "ec7fdbf6",
   "metadata": {},
   "outputs": [],
   "source": [
    "from sklearn.naive_bayes import MultinomialNB\n",
    "\n",
    "clf = MultinomialNB().fit(X_train, train.target)\n"
   ]
  },
  {
   "cell_type": "markdown",
   "id": "443985c8",
   "metadata": {},
   "source": [
    "## Task 3.3 : Print the first 30 samples of predicted and actual data "
   ]
  },
  {
   "cell_type": "code",
   "execution_count": 18,
   "id": "06134d94",
   "metadata": {},
   "outputs": [],
   "source": [
    "# Predicting our test data\n",
    "y_pred = clf.predict(X_test)"
   ]
  },
  {
   "cell_type": "code",
   "execution_count": 19,
   "id": "c86f7585",
   "metadata": {},
   "outputs": [],
   "source": [
    "import pandas as pd\n",
    "df1 = pd.DataFrame({\"Actual\":test.target,\"Predicted\":y_pred})"
   ]
  },
  {
   "cell_type": "code",
   "execution_count": 20,
   "id": "a4adfa11",
   "metadata": {},
   "outputs": [
    {
     "data": {
      "text/html": [
       "<div>\n",
       "<style scoped>\n",
       "    .dataframe tbody tr th:only-of-type {\n",
       "        vertical-align: middle;\n",
       "    }\n",
       "\n",
       "    .dataframe tbody tr th {\n",
       "        vertical-align: top;\n",
       "    }\n",
       "\n",
       "    .dataframe thead th {\n",
       "        text-align: right;\n",
       "    }\n",
       "</style>\n",
       "<table border=\"1\" class=\"dataframe\">\n",
       "  <thead>\n",
       "    <tr style=\"text-align: right;\">\n",
       "      <th></th>\n",
       "      <th>Actual</th>\n",
       "      <th>Predicted</th>\n",
       "    </tr>\n",
       "  </thead>\n",
       "  <tbody>\n",
       "    <tr>\n",
       "      <th>0</th>\n",
       "      <td>1</td>\n",
       "      <td>1</td>\n",
       "    </tr>\n",
       "    <tr>\n",
       "      <th>1</th>\n",
       "      <td>0</td>\n",
       "      <td>0</td>\n",
       "    </tr>\n",
       "    <tr>\n",
       "      <th>2</th>\n",
       "      <td>0</td>\n",
       "      <td>0</td>\n",
       "    </tr>\n",
       "    <tr>\n",
       "      <th>3</th>\n",
       "      <td>0</td>\n",
       "      <td>0</td>\n",
       "    </tr>\n",
       "    <tr>\n",
       "      <th>4</th>\n",
       "      <td>0</td>\n",
       "      <td>0</td>\n",
       "    </tr>\n",
       "    <tr>\n",
       "      <th>5</th>\n",
       "      <td>0</td>\n",
       "      <td>0</td>\n",
       "    </tr>\n",
       "    <tr>\n",
       "      <th>6</th>\n",
       "      <td>1</td>\n",
       "      <td>1</td>\n",
       "    </tr>\n",
       "    <tr>\n",
       "      <th>7</th>\n",
       "      <td>1</td>\n",
       "      <td>1</td>\n",
       "    </tr>\n",
       "    <tr>\n",
       "      <th>8</th>\n",
       "      <td>0</td>\n",
       "      <td>0</td>\n",
       "    </tr>\n",
       "    <tr>\n",
       "      <th>9</th>\n",
       "      <td>0</td>\n",
       "      <td>0</td>\n",
       "    </tr>\n",
       "    <tr>\n",
       "      <th>10</th>\n",
       "      <td>1</td>\n",
       "      <td>1</td>\n",
       "    </tr>\n",
       "    <tr>\n",
       "      <th>11</th>\n",
       "      <td>1</td>\n",
       "      <td>1</td>\n",
       "    </tr>\n",
       "    <tr>\n",
       "      <th>12</th>\n",
       "      <td>0</td>\n",
       "      <td>0</td>\n",
       "    </tr>\n",
       "    <tr>\n",
       "      <th>13</th>\n",
       "      <td>0</td>\n",
       "      <td>0</td>\n",
       "    </tr>\n",
       "    <tr>\n",
       "      <th>14</th>\n",
       "      <td>1</td>\n",
       "      <td>1</td>\n",
       "    </tr>\n",
       "    <tr>\n",
       "      <th>15</th>\n",
       "      <td>0</td>\n",
       "      <td>0</td>\n",
       "    </tr>\n",
       "    <tr>\n",
       "      <th>16</th>\n",
       "      <td>0</td>\n",
       "      <td>0</td>\n",
       "    </tr>\n",
       "    <tr>\n",
       "      <th>17</th>\n",
       "      <td>1</td>\n",
       "      <td>1</td>\n",
       "    </tr>\n",
       "    <tr>\n",
       "      <th>18</th>\n",
       "      <td>0</td>\n",
       "      <td>0</td>\n",
       "    </tr>\n",
       "    <tr>\n",
       "      <th>19</th>\n",
       "      <td>0</td>\n",
       "      <td>0</td>\n",
       "    </tr>\n",
       "    <tr>\n",
       "      <th>20</th>\n",
       "      <td>0</td>\n",
       "      <td>0</td>\n",
       "    </tr>\n",
       "    <tr>\n",
       "      <th>21</th>\n",
       "      <td>0</td>\n",
       "      <td>0</td>\n",
       "    </tr>\n",
       "    <tr>\n",
       "      <th>22</th>\n",
       "      <td>1</td>\n",
       "      <td>1</td>\n",
       "    </tr>\n",
       "    <tr>\n",
       "      <th>23</th>\n",
       "      <td>0</td>\n",
       "      <td>0</td>\n",
       "    </tr>\n",
       "    <tr>\n",
       "      <th>24</th>\n",
       "      <td>0</td>\n",
       "      <td>0</td>\n",
       "    </tr>\n",
       "    <tr>\n",
       "      <th>25</th>\n",
       "      <td>1</td>\n",
       "      <td>1</td>\n",
       "    </tr>\n",
       "    <tr>\n",
       "      <th>26</th>\n",
       "      <td>0</td>\n",
       "      <td>0</td>\n",
       "    </tr>\n",
       "    <tr>\n",
       "      <th>27</th>\n",
       "      <td>1</td>\n",
       "      <td>1</td>\n",
       "    </tr>\n",
       "    <tr>\n",
       "      <th>28</th>\n",
       "      <td>1</td>\n",
       "      <td>1</td>\n",
       "    </tr>\n",
       "    <tr>\n",
       "      <th>29</th>\n",
       "      <td>0</td>\n",
       "      <td>0</td>\n",
       "    </tr>\n",
       "  </tbody>\n",
       "</table>\n",
       "</div>"
      ],
      "text/plain": [
       "    Actual  Predicted\n",
       "0        1          1\n",
       "1        0          0\n",
       "2        0          0\n",
       "3        0          0\n",
       "4        0          0\n",
       "5        0          0\n",
       "6        1          1\n",
       "7        1          1\n",
       "8        0          0\n",
       "9        0          0\n",
       "10       1          1\n",
       "11       1          1\n",
       "12       0          0\n",
       "13       0          0\n",
       "14       1          1\n",
       "15       0          0\n",
       "16       0          0\n",
       "17       1          1\n",
       "18       0          0\n",
       "19       0          0\n",
       "20       0          0\n",
       "21       0          0\n",
       "22       1          1\n",
       "23       0          0\n",
       "24       0          0\n",
       "25       1          1\n",
       "26       0          0\n",
       "27       1          1\n",
       "28       1          1\n",
       "29       0          0"
      ]
     },
     "execution_count": 20,
     "metadata": {},
     "output_type": "execute_result"
    }
   ],
   "source": [
    "df1.head(30)"
   ]
  },
  {
   "cell_type": "code",
   "execution_count": 21,
   "id": "8849142b",
   "metadata": {},
   "outputs": [
    {
     "name": "stdout",
     "output_type": "stream",
     "text": [
      "accuracy = 0.9797724399494311 \n",
      "precision = 0.99 \n",
      "recall = 0.97 \n",
      "f1 = 0.98\n"
     ]
    }
   ],
   "source": [
    "acc_n = sklearn.metrics.accuracy_score(test.target, y_pred)\n",
    "# precision = ability of classifier not to label as positive a sample that is negative\n",
    "prec_n = round(sklearn.metrics.precision_score(test.target, y_pred),2)\n",
    "# recall = ability of classifier to find all the positive samples\n",
    "rec_n = round(sklearn.metrics.recall_score(test.target, y_pred),2)\n",
    "f1_n = round(sklearn.metrics.f1_score(test.target, y_pred),2)\n",
    "print('accuracy =',acc_n, '\\nprecision =', prec_n, '\\nrecall =', rec_n, '\\nf1 =',f1_n)"
   ]
  },
  {
   "cell_type": "markdown",
   "id": "84f5c38b",
   "metadata": {},
   "source": [
    "## Task 3.4 : compare the results of logistic regresssion and Naive Bayes for text clasiification "
   ]
  },
  {
   "cell_type": "code",
   "execution_count": 22,
   "id": "be1b24b0",
   "metadata": {},
   "outputs": [],
   "source": [
    "dff = pd.DataFrame({\"Accuracy\":[acc, acc_n], \"Precision\":[prec, prec_n], \"recall\":[rec, rec_n], \"F1-Score\":[f1,f1_n]}, index = [\"Logistic Regression\",\"Naive Bayes\"])"
   ]
  },
  {
   "cell_type": "code",
   "execution_count": 23,
   "id": "d9f2e31c",
   "metadata": {},
   "outputs": [
    {
     "data": {
      "text/html": [
       "<div>\n",
       "<style scoped>\n",
       "    .dataframe tbody tr th:only-of-type {\n",
       "        vertical-align: middle;\n",
       "    }\n",
       "\n",
       "    .dataframe tbody tr th {\n",
       "        vertical-align: top;\n",
       "    }\n",
       "\n",
       "    .dataframe thead th {\n",
       "        text-align: right;\n",
       "    }\n",
       "</style>\n",
       "<table border=\"1\" class=\"dataframe\">\n",
       "  <thead>\n",
       "    <tr style=\"text-align: right;\">\n",
       "      <th></th>\n",
       "      <th>Accuracy</th>\n",
       "      <th>Precision</th>\n",
       "      <th>recall</th>\n",
       "      <th>F1-Score</th>\n",
       "    </tr>\n",
       "  </thead>\n",
       "  <tbody>\n",
       "    <tr>\n",
       "      <th>Logistic Regression</th>\n",
       "      <td>0.986094</td>\n",
       "      <td>0.98</td>\n",
       "      <td>0.99</td>\n",
       "      <td>0.99</td>\n",
       "    </tr>\n",
       "    <tr>\n",
       "      <th>Naive Bayes</th>\n",
       "      <td>0.979772</td>\n",
       "      <td>0.99</td>\n",
       "      <td>0.97</td>\n",
       "      <td>0.98</td>\n",
       "    </tr>\n",
       "  </tbody>\n",
       "</table>\n",
       "</div>"
      ],
      "text/plain": [
       "                     Accuracy  Precision  recall  F1-Score\n",
       "Logistic Regression  0.986094       0.98    0.99      0.99\n",
       "Naive Bayes          0.979772       0.99    0.97      0.98"
      ]
     },
     "execution_count": 23,
     "metadata": {},
     "output_type": "execute_result"
    }
   ],
   "source": [
    "dff"
   ]
  },
  {
   "cell_type": "code",
   "execution_count": 24,
   "id": "44b18b50",
   "metadata": {},
   "outputs": [
    {
     "name": "stdout",
     "output_type": "stream",
     "text": [
      "Even though both  have the approximately same results. With regards to precision score we can say Naive Bayes is a better classifier\n"
     ]
    }
   ],
   "source": [
    "print(\"Even though both  have the approximately same results. With regards to precision score we can say Naive Bayes is a better classifier\")"
   ]
  },
  {
   "cell_type": "markdown",
   "id": "a57a9610",
   "metadata": {},
   "source": [
    "# Task 4: Applying classification on different categories"
   ]
  },
  {
   "cell_type": "code",
   "execution_count": 25,
   "id": "4f624d73",
   "metadata": {},
   "outputs": [
    {
     "data": {
      "text/plain": [
       "['alt.atheism',\n",
       " 'comp.graphics',\n",
       " 'comp.os.ms-windows.misc',\n",
       " 'comp.sys.ibm.pc.hardware',\n",
       " 'comp.sys.mac.hardware',\n",
       " 'comp.windows.x',\n",
       " 'misc.forsale',\n",
       " 'rec.autos',\n",
       " 'rec.motorcycles',\n",
       " 'rec.sport.baseball',\n",
       " 'rec.sport.hockey',\n",
       " 'sci.crypt',\n",
       " 'sci.electronics',\n",
       " 'sci.med',\n",
       " 'sci.space',\n",
       " 'soc.religion.christian',\n",
       " 'talk.politics.guns',\n",
       " 'talk.politics.mideast',\n",
       " 'talk.politics.misc',\n",
       " 'talk.religion.misc']"
      ]
     },
     "execution_count": 25,
     "metadata": {},
     "output_type": "execute_result"
    }
   ],
   "source": [
    "newsgroup_data.target_names"
   ]
  },
  {
   "cell_type": "markdown",
   "id": "d44fc09f",
   "metadata": {},
   "source": [
    "## Task 4.1 Select the input based on following two categories only\n",
    "## a) 'rec.sport.baseball'\n",
    "## b) 'comp.sys.mac.hardware'"
   ]
  },
  {
   "cell_type": "code",
   "execution_count": 26,
   "id": "2cdb1c03",
   "metadata": {},
   "outputs": [],
   "source": [
    "categories = ['rec.sport.baseball', 'comp.sys.mac.hardware']\n",
    "train = fetch_20newsgroups(subset='train',categories=categories)"
   ]
  },
  {
   "cell_type": "code",
   "execution_count": 27,
   "id": "ba379529",
   "metadata": {},
   "outputs": [],
   "source": [
    "test = fetch_20newsgroups(subset='test',categories=categories)"
   ]
  },
  {
   "cell_type": "markdown",
   "id": "349627c7",
   "metadata": {},
   "source": [
    "## Task 4.2 : Consider and perform steps of  tasks 2 and 3 for above categories  "
   ]
  },
  {
   "cell_type": "code",
   "execution_count": 28,
   "id": "1cf5e863",
   "metadata": {},
   "outputs": [
    {
     "name": "stdout",
     "output_type": "stream",
     "text": [
      "X_train n_samples: 1175, n_features: 17300\n"
     ]
    },
    {
     "name": "stderr",
     "output_type": "stream",
     "text": [
      "[nltk_data] Downloading package stopwords to C:\\Users\\ABIKJITH\n",
      "[nltk_data]     REDDY\\AppData\\Roaming\\nltk_data...\n",
      "[nltk_data]   Package stopwords is already up-to-date!\n"
     ]
    }
   ],
   "source": [
    "nltk.download('stopwords')\n",
    "from nltk.corpus import stopwords\n",
    "vectorizer = TfidfVectorizer(\n",
    "        sublinear_tf=True, # Apply sublinear tf scaling, i.e. replace tf with 1 + log(tf).\n",
    "        max_df=0.5, # ignore terms that appaer in more than that fraction of docs \n",
    "        min_df=1, #  ignore terms that have lower document frequency \n",
    "        stop_words=stopwords.words('english'),\n",
    "        use_idf=True, # Enable inverse-document-frequency reweighting.\n",
    "        smooth_idf=True) # Smooth idf weights by adding one to document frequencies\n",
    "X_train = vectorizer.fit_transform(train.data)\n",
    "print(\"X_train n_samples: %d, n_features: %d\" % X_train.shape)"
   ]
  },
  {
   "cell_type": "code",
   "execution_count": 29,
   "id": "b9a0386d",
   "metadata": {},
   "outputs": [
    {
     "name": "stdout",
     "output_type": "stream",
     "text": [
      "X_test n_samples: 782, n_features: 17300\n"
     ]
    }
   ],
   "source": [
    "X_test = vectorizer.transform(test.data)                      #test data for vectorization\n",
    "print(\"X_test n_samples: %d, n_features: %d\" % X_test.shape)"
   ]
  },
  {
   "cell_type": "code",
   "execution_count": 30,
   "id": "52c25580",
   "metadata": {},
   "outputs": [],
   "source": [
    "# Train a Logistic Regression classifier\n",
    "from sklearn.linear_model import LogisticRegression\n",
    "\n",
    "clf = LogisticRegression().fit(X_train,train.target) "
   ]
  },
  {
   "cell_type": "code",
   "execution_count": 31,
   "id": "f59061ec",
   "metadata": {},
   "outputs": [],
   "source": [
    "pred = clf.predict(X_test)"
   ]
  },
  {
   "cell_type": "code",
   "execution_count": 32,
   "id": "044c5f21",
   "metadata": {},
   "outputs": [],
   "source": [
    "df4 = pd.DataFrame({\"Actual\":test.target,\"Predicted\":pred})"
   ]
  },
  {
   "cell_type": "code",
   "execution_count": 33,
   "id": "d1b7366a",
   "metadata": {},
   "outputs": [
    {
     "data": {
      "text/html": [
       "<div>\n",
       "<style scoped>\n",
       "    .dataframe tbody tr th:only-of-type {\n",
       "        vertical-align: middle;\n",
       "    }\n",
       "\n",
       "    .dataframe tbody tr th {\n",
       "        vertical-align: top;\n",
       "    }\n",
       "\n",
       "    .dataframe thead th {\n",
       "        text-align: right;\n",
       "    }\n",
       "</style>\n",
       "<table border=\"1\" class=\"dataframe\">\n",
       "  <thead>\n",
       "    <tr style=\"text-align: right;\">\n",
       "      <th></th>\n",
       "      <th>Actual</th>\n",
       "      <th>Predicted</th>\n",
       "    </tr>\n",
       "  </thead>\n",
       "  <tbody>\n",
       "    <tr>\n",
       "      <th>0</th>\n",
       "      <td>0</td>\n",
       "      <td>0</td>\n",
       "    </tr>\n",
       "    <tr>\n",
       "      <th>1</th>\n",
       "      <td>1</td>\n",
       "      <td>1</td>\n",
       "    </tr>\n",
       "    <tr>\n",
       "      <th>2</th>\n",
       "      <td>1</td>\n",
       "      <td>1</td>\n",
       "    </tr>\n",
       "    <tr>\n",
       "      <th>3</th>\n",
       "      <td>0</td>\n",
       "      <td>0</td>\n",
       "    </tr>\n",
       "    <tr>\n",
       "      <th>4</th>\n",
       "      <td>1</td>\n",
       "      <td>1</td>\n",
       "    </tr>\n",
       "    <tr>\n",
       "      <th>5</th>\n",
       "      <td>1</td>\n",
       "      <td>1</td>\n",
       "    </tr>\n",
       "    <tr>\n",
       "      <th>6</th>\n",
       "      <td>0</td>\n",
       "      <td>0</td>\n",
       "    </tr>\n",
       "    <tr>\n",
       "      <th>7</th>\n",
       "      <td>1</td>\n",
       "      <td>1</td>\n",
       "    </tr>\n",
       "    <tr>\n",
       "      <th>8</th>\n",
       "      <td>0</td>\n",
       "      <td>0</td>\n",
       "    </tr>\n",
       "    <tr>\n",
       "      <th>9</th>\n",
       "      <td>1</td>\n",
       "      <td>1</td>\n",
       "    </tr>\n",
       "    <tr>\n",
       "      <th>10</th>\n",
       "      <td>1</td>\n",
       "      <td>1</td>\n",
       "    </tr>\n",
       "    <tr>\n",
       "      <th>11</th>\n",
       "      <td>1</td>\n",
       "      <td>1</td>\n",
       "    </tr>\n",
       "    <tr>\n",
       "      <th>12</th>\n",
       "      <td>1</td>\n",
       "      <td>1</td>\n",
       "    </tr>\n",
       "    <tr>\n",
       "      <th>13</th>\n",
       "      <td>0</td>\n",
       "      <td>0</td>\n",
       "    </tr>\n",
       "    <tr>\n",
       "      <th>14</th>\n",
       "      <td>0</td>\n",
       "      <td>0</td>\n",
       "    </tr>\n",
       "    <tr>\n",
       "      <th>15</th>\n",
       "      <td>0</td>\n",
       "      <td>0</td>\n",
       "    </tr>\n",
       "    <tr>\n",
       "      <th>16</th>\n",
       "      <td>1</td>\n",
       "      <td>1</td>\n",
       "    </tr>\n",
       "    <tr>\n",
       "      <th>17</th>\n",
       "      <td>0</td>\n",
       "      <td>0</td>\n",
       "    </tr>\n",
       "    <tr>\n",
       "      <th>18</th>\n",
       "      <td>0</td>\n",
       "      <td>0</td>\n",
       "    </tr>\n",
       "    <tr>\n",
       "      <th>19</th>\n",
       "      <td>0</td>\n",
       "      <td>0</td>\n",
       "    </tr>\n",
       "    <tr>\n",
       "      <th>20</th>\n",
       "      <td>1</td>\n",
       "      <td>1</td>\n",
       "    </tr>\n",
       "    <tr>\n",
       "      <th>21</th>\n",
       "      <td>1</td>\n",
       "      <td>1</td>\n",
       "    </tr>\n",
       "    <tr>\n",
       "      <th>22</th>\n",
       "      <td>1</td>\n",
       "      <td>1</td>\n",
       "    </tr>\n",
       "    <tr>\n",
       "      <th>23</th>\n",
       "      <td>1</td>\n",
       "      <td>1</td>\n",
       "    </tr>\n",
       "    <tr>\n",
       "      <th>24</th>\n",
       "      <td>1</td>\n",
       "      <td>1</td>\n",
       "    </tr>\n",
       "    <tr>\n",
       "      <th>25</th>\n",
       "      <td>0</td>\n",
       "      <td>1</td>\n",
       "    </tr>\n",
       "    <tr>\n",
       "      <th>26</th>\n",
       "      <td>0</td>\n",
       "      <td>0</td>\n",
       "    </tr>\n",
       "    <tr>\n",
       "      <th>27</th>\n",
       "      <td>0</td>\n",
       "      <td>0</td>\n",
       "    </tr>\n",
       "    <tr>\n",
       "      <th>28</th>\n",
       "      <td>1</td>\n",
       "      <td>1</td>\n",
       "    </tr>\n",
       "    <tr>\n",
       "      <th>29</th>\n",
       "      <td>0</td>\n",
       "      <td>0</td>\n",
       "    </tr>\n",
       "  </tbody>\n",
       "</table>\n",
       "</div>"
      ],
      "text/plain": [
       "    Actual  Predicted\n",
       "0        0          0\n",
       "1        1          1\n",
       "2        1          1\n",
       "3        0          0\n",
       "4        1          1\n",
       "5        1          1\n",
       "6        0          0\n",
       "7        1          1\n",
       "8        0          0\n",
       "9        1          1\n",
       "10       1          1\n",
       "11       1          1\n",
       "12       1          1\n",
       "13       0          0\n",
       "14       0          0\n",
       "15       0          0\n",
       "16       1          1\n",
       "17       0          0\n",
       "18       0          0\n",
       "19       0          0\n",
       "20       1          1\n",
       "21       1          1\n",
       "22       1          1\n",
       "23       1          1\n",
       "24       1          1\n",
       "25       0          1\n",
       "26       0          0\n",
       "27       0          0\n",
       "28       1          1\n",
       "29       0          0"
      ]
     },
     "execution_count": 33,
     "metadata": {},
     "output_type": "execute_result"
    }
   ],
   "source": [
    "df4.head(30)"
   ]
  },
  {
   "cell_type": "code",
   "execution_count": 34,
   "id": "ab0b7f25",
   "metadata": {},
   "outputs": [
    {
     "name": "stdout",
     "output_type": "stream",
     "text": [
      "accuracy = 0.9910485933503836 \n",
      "precision = 0.99 \n",
      "recall = 0.99 \n",
      "f1 = 0.99\n"
     ]
    }
   ],
   "source": [
    "acc1 = sklearn.metrics.accuracy_score(test.target, pred)\n",
    "# precision = ability of classifier not to label as positive a sample that is negative\n",
    "prec1 = round(sklearn.metrics.precision_score(test.target, pred),2)\n",
    "# recall = ability of classifier to find all the positive samples\n",
    "rec1 = round(sklearn.metrics.recall_score(test.target, pred),2)\n",
    "f11 = round(sklearn.metrics.f1_score(test.target, pred),2)\n",
    "print('accuracy =',acc1, '\\nprecision =', prec1, '\\nrecall =', rec1, '\\nf1 =',f11)"
   ]
  },
  {
   "cell_type": "code",
   "execution_count": 35,
   "id": "ad58c6e5",
   "metadata": {},
   "outputs": [],
   "source": [
    "#Naive Bayes\n",
    "\n",
    "clf = MultinomialNB().fit(X_train, train.target)"
   ]
  },
  {
   "cell_type": "code",
   "execution_count": 36,
   "id": "423a8870",
   "metadata": {},
   "outputs": [],
   "source": [
    "y_pred = clf.predict(X_test)"
   ]
  },
  {
   "cell_type": "code",
   "execution_count": 37,
   "id": "1c882731",
   "metadata": {},
   "outputs": [],
   "source": [
    "df5 = pd.DataFrame({\"Actual\":test.target,\"Predicted\":y_pred})"
   ]
  },
  {
   "cell_type": "code",
   "execution_count": 38,
   "id": "bccaa64d",
   "metadata": {},
   "outputs": [
    {
     "data": {
      "text/html": [
       "<div>\n",
       "<style scoped>\n",
       "    .dataframe tbody tr th:only-of-type {\n",
       "        vertical-align: middle;\n",
       "    }\n",
       "\n",
       "    .dataframe tbody tr th {\n",
       "        vertical-align: top;\n",
       "    }\n",
       "\n",
       "    .dataframe thead th {\n",
       "        text-align: right;\n",
       "    }\n",
       "</style>\n",
       "<table border=\"1\" class=\"dataframe\">\n",
       "  <thead>\n",
       "    <tr style=\"text-align: right;\">\n",
       "      <th></th>\n",
       "      <th>Actual</th>\n",
       "      <th>Predicted</th>\n",
       "    </tr>\n",
       "  </thead>\n",
       "  <tbody>\n",
       "    <tr>\n",
       "      <th>0</th>\n",
       "      <td>0</td>\n",
       "      <td>0</td>\n",
       "    </tr>\n",
       "    <tr>\n",
       "      <th>1</th>\n",
       "      <td>1</td>\n",
       "      <td>1</td>\n",
       "    </tr>\n",
       "    <tr>\n",
       "      <th>2</th>\n",
       "      <td>1</td>\n",
       "      <td>1</td>\n",
       "    </tr>\n",
       "    <tr>\n",
       "      <th>3</th>\n",
       "      <td>0</td>\n",
       "      <td>0</td>\n",
       "    </tr>\n",
       "    <tr>\n",
       "      <th>4</th>\n",
       "      <td>1</td>\n",
       "      <td>1</td>\n",
       "    </tr>\n",
       "    <tr>\n",
       "      <th>5</th>\n",
       "      <td>1</td>\n",
       "      <td>1</td>\n",
       "    </tr>\n",
       "    <tr>\n",
       "      <th>6</th>\n",
       "      <td>0</td>\n",
       "      <td>0</td>\n",
       "    </tr>\n",
       "    <tr>\n",
       "      <th>7</th>\n",
       "      <td>1</td>\n",
       "      <td>1</td>\n",
       "    </tr>\n",
       "    <tr>\n",
       "      <th>8</th>\n",
       "      <td>0</td>\n",
       "      <td>0</td>\n",
       "    </tr>\n",
       "    <tr>\n",
       "      <th>9</th>\n",
       "      <td>1</td>\n",
       "      <td>1</td>\n",
       "    </tr>\n",
       "    <tr>\n",
       "      <th>10</th>\n",
       "      <td>1</td>\n",
       "      <td>1</td>\n",
       "    </tr>\n",
       "    <tr>\n",
       "      <th>11</th>\n",
       "      <td>1</td>\n",
       "      <td>1</td>\n",
       "    </tr>\n",
       "    <tr>\n",
       "      <th>12</th>\n",
       "      <td>1</td>\n",
       "      <td>1</td>\n",
       "    </tr>\n",
       "    <tr>\n",
       "      <th>13</th>\n",
       "      <td>0</td>\n",
       "      <td>0</td>\n",
       "    </tr>\n",
       "    <tr>\n",
       "      <th>14</th>\n",
       "      <td>0</td>\n",
       "      <td>0</td>\n",
       "    </tr>\n",
       "    <tr>\n",
       "      <th>15</th>\n",
       "      <td>0</td>\n",
       "      <td>0</td>\n",
       "    </tr>\n",
       "    <tr>\n",
       "      <th>16</th>\n",
       "      <td>1</td>\n",
       "      <td>1</td>\n",
       "    </tr>\n",
       "    <tr>\n",
       "      <th>17</th>\n",
       "      <td>0</td>\n",
       "      <td>0</td>\n",
       "    </tr>\n",
       "    <tr>\n",
       "      <th>18</th>\n",
       "      <td>0</td>\n",
       "      <td>0</td>\n",
       "    </tr>\n",
       "    <tr>\n",
       "      <th>19</th>\n",
       "      <td>0</td>\n",
       "      <td>0</td>\n",
       "    </tr>\n",
       "    <tr>\n",
       "      <th>20</th>\n",
       "      <td>1</td>\n",
       "      <td>1</td>\n",
       "    </tr>\n",
       "    <tr>\n",
       "      <th>21</th>\n",
       "      <td>1</td>\n",
       "      <td>1</td>\n",
       "    </tr>\n",
       "    <tr>\n",
       "      <th>22</th>\n",
       "      <td>1</td>\n",
       "      <td>1</td>\n",
       "    </tr>\n",
       "    <tr>\n",
       "      <th>23</th>\n",
       "      <td>1</td>\n",
       "      <td>1</td>\n",
       "    </tr>\n",
       "    <tr>\n",
       "      <th>24</th>\n",
       "      <td>1</td>\n",
       "      <td>1</td>\n",
       "    </tr>\n",
       "    <tr>\n",
       "      <th>25</th>\n",
       "      <td>0</td>\n",
       "      <td>1</td>\n",
       "    </tr>\n",
       "    <tr>\n",
       "      <th>26</th>\n",
       "      <td>0</td>\n",
       "      <td>0</td>\n",
       "    </tr>\n",
       "    <tr>\n",
       "      <th>27</th>\n",
       "      <td>0</td>\n",
       "      <td>0</td>\n",
       "    </tr>\n",
       "    <tr>\n",
       "      <th>28</th>\n",
       "      <td>1</td>\n",
       "      <td>1</td>\n",
       "    </tr>\n",
       "    <tr>\n",
       "      <th>29</th>\n",
       "      <td>0</td>\n",
       "      <td>0</td>\n",
       "    </tr>\n",
       "  </tbody>\n",
       "</table>\n",
       "</div>"
      ],
      "text/plain": [
       "    Actual  Predicted\n",
       "0        0          0\n",
       "1        1          1\n",
       "2        1          1\n",
       "3        0          0\n",
       "4        1          1\n",
       "5        1          1\n",
       "6        0          0\n",
       "7        1          1\n",
       "8        0          0\n",
       "9        1          1\n",
       "10       1          1\n",
       "11       1          1\n",
       "12       1          1\n",
       "13       0          0\n",
       "14       0          0\n",
       "15       0          0\n",
       "16       1          1\n",
       "17       0          0\n",
       "18       0          0\n",
       "19       0          0\n",
       "20       1          1\n",
       "21       1          1\n",
       "22       1          1\n",
       "23       1          1\n",
       "24       1          1\n",
       "25       0          1\n",
       "26       0          0\n",
       "27       0          0\n",
       "28       1          1\n",
       "29       0          0"
      ]
     },
     "execution_count": 38,
     "metadata": {},
     "output_type": "execute_result"
    }
   ],
   "source": [
    "df5.head(30)"
   ]
  },
  {
   "cell_type": "code",
   "execution_count": 39,
   "id": "aa3cd767",
   "metadata": {},
   "outputs": [
    {
     "name": "stdout",
     "output_type": "stream",
     "text": [
      "accuracy = 0.9872122762148338 \n",
      "precision = 0.98 \n",
      "recall = 0.99 \n",
      "f1 = 0.99\n"
     ]
    }
   ],
   "source": [
    "acc_n1 = sklearn.metrics.accuracy_score(test.target, y_pred)\n",
    "# precision = ability of classifier not to label as positive a sample that is negative\n",
    "prec_n1 = round(sklearn.metrics.precision_score(test.target, y_pred),2)\n",
    "# recall = ability of classifier to find all the positive samples\n",
    "rec_n1 = round(sklearn.metrics.recall_score(test.target, y_pred),2)\n",
    "f1_n1 = round(sklearn.metrics.f1_score(test.target, y_pred),2)\n",
    "print('accuracy =',acc_n1, '\\nprecision =', prec_n1, '\\nrecall =', rec_n1, '\\nf1 =',f1_n1)"
   ]
  },
  {
   "cell_type": "code",
   "execution_count": 40,
   "id": "a2cf0d67",
   "metadata": {},
   "outputs": [],
   "source": [
    "dff1 = pd.DataFrame({\"Accuracy\":[acc1, acc_n1], \"Precision\":[prec1, prec_n1], \"recall\":[rec1, rec_n1], \"F1-Score\":[f11,f1_n1]}, index = [\"Logistic Regression\",\"Naive Bayes\"])"
   ]
  },
  {
   "cell_type": "code",
   "execution_count": 41,
   "id": "1f0618bd",
   "metadata": {},
   "outputs": [
    {
     "data": {
      "text/html": [
       "<div>\n",
       "<style scoped>\n",
       "    .dataframe tbody tr th:only-of-type {\n",
       "        vertical-align: middle;\n",
       "    }\n",
       "\n",
       "    .dataframe tbody tr th {\n",
       "        vertical-align: top;\n",
       "    }\n",
       "\n",
       "    .dataframe thead th {\n",
       "        text-align: right;\n",
       "    }\n",
       "</style>\n",
       "<table border=\"1\" class=\"dataframe\">\n",
       "  <thead>\n",
       "    <tr style=\"text-align: right;\">\n",
       "      <th></th>\n",
       "      <th>Accuracy</th>\n",
       "      <th>Precision</th>\n",
       "      <th>recall</th>\n",
       "      <th>F1-Score</th>\n",
       "    </tr>\n",
       "  </thead>\n",
       "  <tbody>\n",
       "    <tr>\n",
       "      <th>Logistic Regression</th>\n",
       "      <td>0.991049</td>\n",
       "      <td>0.99</td>\n",
       "      <td>0.99</td>\n",
       "      <td>0.99</td>\n",
       "    </tr>\n",
       "    <tr>\n",
       "      <th>Naive Bayes</th>\n",
       "      <td>0.987212</td>\n",
       "      <td>0.98</td>\n",
       "      <td>0.99</td>\n",
       "      <td>0.99</td>\n",
       "    </tr>\n",
       "  </tbody>\n",
       "</table>\n",
       "</div>"
      ],
      "text/plain": [
       "                     Accuracy  Precision  recall  F1-Score\n",
       "Logistic Regression  0.991049       0.99    0.99      0.99\n",
       "Naive Bayes          0.987212       0.98    0.99      0.99"
      ]
     },
     "execution_count": 41,
     "metadata": {},
     "output_type": "execute_result"
    }
   ],
   "source": [
    "dff1"
   ]
  },
  {
   "cell_type": "code",
   "execution_count": 42,
   "id": "2e0d325a",
   "metadata": {},
   "outputs": [
    {
     "name": "stdout",
     "output_type": "stream",
     "text": [
      "In this also we can see that both the models have approximately same performance. But depending upon the precision score Logistic Regression is the best classifier\n"
     ]
    }
   ],
   "source": [
    "print(\"In this also we can see that both the models have approximately same performance. But depending upon the precision score Logistic Regression is the best classifier\")"
   ]
  },
  {
   "cell_type": "markdown",
   "id": "d4f9c62c",
   "metadata": {},
   "source": [
    "# Task 5 : Naive Bayes algorithm "
   ]
  },
  {
   "cell_type": "code",
   "execution_count": 43,
   "id": "fe988c05",
   "metadata": {},
   "outputs": [],
   "source": [
    "new = ['What are the different parts of a computer?', 'Playing baseball is good for health', \n",
    "            'In which games you are intrested?', 'The team might not win if there is rain']"
   ]
  },
  {
   "cell_type": "code",
   "execution_count": 44,
   "id": "ab10567b",
   "metadata": {},
   "outputs": [],
   "source": [
    "from sklearn.naive_bayes import MultinomialNB\n",
    "import numpy as np\n",
    "\n",
    "clf = MultinomialNB().fit(X_train, train.target)\n",
    "\n",
    "y_pred = clf.predict(X_test)"
   ]
  },
  {
   "cell_type": "code",
   "execution_count": 45,
   "id": "b4d85fe2",
   "metadata": {},
   "outputs": [],
   "source": [
    "new_tfidf = vectorizer.transform(new)"
   ]
  },
  {
   "cell_type": "code",
   "execution_count": 46,
   "id": "05cf82f0",
   "metadata": {},
   "outputs": [],
   "source": [
    "pred = clf.predict(new_tfidf)"
   ]
  },
  {
   "cell_type": "code",
   "execution_count": 47,
   "id": "fceebdf6",
   "metadata": {},
   "outputs": [
    {
     "name": "stdout",
     "output_type": "stream",
     "text": [
      "What are the different parts of a computer? ---- comp.sys.mac.hardware\n",
      "Playing baseball is good for health ---- rec.sport.baseball\n",
      "In which games you are intrested? ---- rec.sport.baseball\n",
      "The team might not win if there is rain ---- rec.sport.baseball\n"
     ]
    }
   ],
   "source": [
    "for i,j in zip(new,pred):\n",
    "    print(i,\"----\",train.target_names[j])"
   ]
  },
  {
   "cell_type": "markdown",
   "id": "b68c2981",
   "metadata": {},
   "source": [
    "## Task 6 : Classification on all input categories "
   ]
  },
  {
   "cell_type": "code",
   "execution_count": 48,
   "id": "bcaf5220",
   "metadata": {},
   "outputs": [
    {
     "data": {
      "text/plain": [
       "['alt.atheism',\n",
       " 'comp.graphics',\n",
       " 'comp.os.ms-windows.misc',\n",
       " 'comp.sys.ibm.pc.hardware',\n",
       " 'comp.sys.mac.hardware',\n",
       " 'comp.windows.x',\n",
       " 'misc.forsale',\n",
       " 'rec.autos',\n",
       " 'rec.motorcycles',\n",
       " 'rec.sport.baseball',\n",
       " 'rec.sport.hockey',\n",
       " 'sci.crypt',\n",
       " 'sci.electronics',\n",
       " 'sci.med',\n",
       " 'sci.space',\n",
       " 'soc.religion.christian',\n",
       " 'talk.politics.guns',\n",
       " 'talk.politics.mideast',\n",
       " 'talk.politics.misc',\n",
       " 'talk.religion.misc']"
      ]
     },
     "execution_count": 48,
     "metadata": {},
     "output_type": "execute_result"
    }
   ],
   "source": [
    "newsgroup_data.target_names"
   ]
  },
  {
   "cell_type": "code",
   "execution_count": 49,
   "id": "6f688ac0",
   "metadata": {},
   "outputs": [],
   "source": [
    "categories = ['alt.atheism',\n",
    " 'comp.graphics',\n",
    " 'comp.os.ms-windows.misc',\n",
    " 'comp.sys.ibm.pc.hardware',\n",
    " 'comp.sys.mac.hardware',\n",
    " 'comp.windows.x',\n",
    " 'misc.forsale',\n",
    " 'rec.autos',\n",
    " 'rec.motorcycles',\n",
    " 'rec.sport.baseball',\n",
    " 'rec.sport.hockey',\n",
    " 'sci.crypt',\n",
    " 'sci.electronics',\n",
    " 'sci.med',\n",
    " 'sci.space',\n",
    " 'soc.religion.christian',\n",
    " 'talk.politics.guns',\n",
    " 'talk.politics.mideast',\n",
    " 'talk.politics.misc',\n",
    " 'talk.religion.misc']\n",
    "train = fetch_20newsgroups(subset='train',categories=categories)"
   ]
  },
  {
   "cell_type": "code",
   "execution_count": 50,
   "id": "56a67c4e",
   "metadata": {},
   "outputs": [],
   "source": [
    "test = fetch_20newsgroups(subset='test',categories=categories)"
   ]
  },
  {
   "cell_type": "code",
   "execution_count": 51,
   "id": "43ba8d4b",
   "metadata": {},
   "outputs": [
    {
     "name": "stdout",
     "output_type": "stream",
     "text": [
      "X_train n_samples: 11314, n_features: 129958\n"
     ]
    }
   ],
   "source": [
    "X_train = vectorizer.fit_transform(train.data)\n",
    "print(\"X_train n_samples: %d, n_features: %d\" % X_train.shape)"
   ]
  },
  {
   "cell_type": "code",
   "execution_count": 52,
   "id": "d5f27555",
   "metadata": {},
   "outputs": [
    {
     "name": "stdout",
     "output_type": "stream",
     "text": [
      "X_test n_samples: 7532, n_features: 129958\n"
     ]
    }
   ],
   "source": [
    "X_test = vectorizer.transform(test.data)                      #test data for vectorization\n",
    "print(\"X_test n_samples: %d, n_features: %d\" % X_test.shape)"
   ]
  },
  {
   "cell_type": "code",
   "execution_count": 53,
   "id": "0b0108a8",
   "metadata": {},
   "outputs": [],
   "source": [
    "clf = LogisticRegression().fit(X_train,train.target)"
   ]
  },
  {
   "cell_type": "code",
   "execution_count": 54,
   "id": "b4bc69a9",
   "metadata": {},
   "outputs": [],
   "source": [
    "pred = clf.predict(X_test)"
   ]
  },
  {
   "cell_type": "code",
   "execution_count": 55,
   "id": "1c9215a0",
   "metadata": {},
   "outputs": [],
   "source": [
    "df6 = pd.DataFrame({\"Actual\":test.target,\"Predicted\":pred})"
   ]
  },
  {
   "cell_type": "code",
   "execution_count": 56,
   "id": "a81009fd",
   "metadata": {},
   "outputs": [
    {
     "data": {
      "text/html": [
       "<div>\n",
       "<style scoped>\n",
       "    .dataframe tbody tr th:only-of-type {\n",
       "        vertical-align: middle;\n",
       "    }\n",
       "\n",
       "    .dataframe tbody tr th {\n",
       "        vertical-align: top;\n",
       "    }\n",
       "\n",
       "    .dataframe thead th {\n",
       "        text-align: right;\n",
       "    }\n",
       "</style>\n",
       "<table border=\"1\" class=\"dataframe\">\n",
       "  <thead>\n",
       "    <tr style=\"text-align: right;\">\n",
       "      <th></th>\n",
       "      <th>Actual</th>\n",
       "      <th>Predicted</th>\n",
       "    </tr>\n",
       "  </thead>\n",
       "  <tbody>\n",
       "    <tr>\n",
       "      <th>0</th>\n",
       "      <td>7</td>\n",
       "      <td>7</td>\n",
       "    </tr>\n",
       "    <tr>\n",
       "      <th>1</th>\n",
       "      <td>5</td>\n",
       "      <td>1</td>\n",
       "    </tr>\n",
       "    <tr>\n",
       "      <th>2</th>\n",
       "      <td>0</td>\n",
       "      <td>0</td>\n",
       "    </tr>\n",
       "    <tr>\n",
       "      <th>3</th>\n",
       "      <td>17</td>\n",
       "      <td>18</td>\n",
       "    </tr>\n",
       "    <tr>\n",
       "      <th>4</th>\n",
       "      <td>19</td>\n",
       "      <td>0</td>\n",
       "    </tr>\n",
       "    <tr>\n",
       "      <th>5</th>\n",
       "      <td>13</td>\n",
       "      <td>13</td>\n",
       "    </tr>\n",
       "    <tr>\n",
       "      <th>6</th>\n",
       "      <td>15</td>\n",
       "      <td>15</td>\n",
       "    </tr>\n",
       "    <tr>\n",
       "      <th>7</th>\n",
       "      <td>15</td>\n",
       "      <td>2</td>\n",
       "    </tr>\n",
       "    <tr>\n",
       "      <th>8</th>\n",
       "      <td>5</td>\n",
       "      <td>5</td>\n",
       "    </tr>\n",
       "    <tr>\n",
       "      <th>9</th>\n",
       "      <td>1</td>\n",
       "      <td>1</td>\n",
       "    </tr>\n",
       "    <tr>\n",
       "      <th>10</th>\n",
       "      <td>2</td>\n",
       "      <td>2</td>\n",
       "    </tr>\n",
       "    <tr>\n",
       "      <th>11</th>\n",
       "      <td>5</td>\n",
       "      <td>1</td>\n",
       "    </tr>\n",
       "    <tr>\n",
       "      <th>12</th>\n",
       "      <td>17</td>\n",
       "      <td>17</td>\n",
       "    </tr>\n",
       "    <tr>\n",
       "      <th>13</th>\n",
       "      <td>8</td>\n",
       "      <td>8</td>\n",
       "    </tr>\n",
       "    <tr>\n",
       "      <th>14</th>\n",
       "      <td>0</td>\n",
       "      <td>15</td>\n",
       "    </tr>\n",
       "    <tr>\n",
       "      <th>15</th>\n",
       "      <td>2</td>\n",
       "      <td>3</td>\n",
       "    </tr>\n",
       "    <tr>\n",
       "      <th>16</th>\n",
       "      <td>4</td>\n",
       "      <td>2</td>\n",
       "    </tr>\n",
       "    <tr>\n",
       "      <th>17</th>\n",
       "      <td>1</td>\n",
       "      <td>1</td>\n",
       "    </tr>\n",
       "    <tr>\n",
       "      <th>18</th>\n",
       "      <td>6</td>\n",
       "      <td>6</td>\n",
       "    </tr>\n",
       "    <tr>\n",
       "      <th>19</th>\n",
       "      <td>16</td>\n",
       "      <td>16</td>\n",
       "    </tr>\n",
       "    <tr>\n",
       "      <th>20</th>\n",
       "      <td>1</td>\n",
       "      <td>15</td>\n",
       "    </tr>\n",
       "    <tr>\n",
       "      <th>21</th>\n",
       "      <td>6</td>\n",
       "      <td>6</td>\n",
       "    </tr>\n",
       "    <tr>\n",
       "      <th>22</th>\n",
       "      <td>17</td>\n",
       "      <td>0</td>\n",
       "    </tr>\n",
       "    <tr>\n",
       "      <th>23</th>\n",
       "      <td>14</td>\n",
       "      <td>14</td>\n",
       "    </tr>\n",
       "    <tr>\n",
       "      <th>24</th>\n",
       "      <td>3</td>\n",
       "      <td>3</td>\n",
       "    </tr>\n",
       "    <tr>\n",
       "      <th>25</th>\n",
       "      <td>13</td>\n",
       "      <td>13</td>\n",
       "    </tr>\n",
       "    <tr>\n",
       "      <th>26</th>\n",
       "      <td>11</td>\n",
       "      <td>11</td>\n",
       "    </tr>\n",
       "    <tr>\n",
       "      <th>27</th>\n",
       "      <td>7</td>\n",
       "      <td>7</td>\n",
       "    </tr>\n",
       "    <tr>\n",
       "      <th>28</th>\n",
       "      <td>7</td>\n",
       "      <td>7</td>\n",
       "    </tr>\n",
       "    <tr>\n",
       "      <th>29</th>\n",
       "      <td>3</td>\n",
       "      <td>3</td>\n",
       "    </tr>\n",
       "  </tbody>\n",
       "</table>\n",
       "</div>"
      ],
      "text/plain": [
       "    Actual  Predicted\n",
       "0        7          7\n",
       "1        5          1\n",
       "2        0          0\n",
       "3       17         18\n",
       "4       19          0\n",
       "5       13         13\n",
       "6       15         15\n",
       "7       15          2\n",
       "8        5          5\n",
       "9        1          1\n",
       "10       2          2\n",
       "11       5          1\n",
       "12      17         17\n",
       "13       8          8\n",
       "14       0         15\n",
       "15       2          3\n",
       "16       4          2\n",
       "17       1          1\n",
       "18       6          6\n",
       "19      16         16\n",
       "20       1         15\n",
       "21       6          6\n",
       "22      17          0\n",
       "23      14         14\n",
       "24       3          3\n",
       "25      13         13\n",
       "26      11         11\n",
       "27       7          7\n",
       "28       7          7\n",
       "29       3          3"
      ]
     },
     "execution_count": 56,
     "metadata": {},
     "output_type": "execute_result"
    }
   ],
   "source": [
    "df6.head(30)"
   ]
  },
  {
   "cell_type": "code",
   "execution_count": 57,
   "id": "438ba417",
   "metadata": {},
   "outputs": [
    {
     "name": "stdout",
     "output_type": "stream",
     "text": [
      "accuracy = 0.8454593733404142 \n",
      "precision = 0.85 \n",
      "recall = 0.84 \n",
      "f1 = 0.84\n"
     ]
    }
   ],
   "source": [
    "acc_a = sklearn.metrics.accuracy_score(test.target, pred)\n",
    "# precision = ability of classifier not to label as positive a sample that is negative\n",
    "prec_a = round(sklearn.metrics.precision_score(test.target, pred,average='macro'),2)\n",
    "# recall = ability of classifier to find all the positive samples\n",
    "rec_a = round(sklearn.metrics.recall_score(test.target, pred, average='macro'),2)\n",
    "f1_a = round(sklearn.metrics.f1_score(test.target, pred, average='macro'),2)\n",
    "print('accuracy =',acc_a, '\\nprecision =', prec_a, '\\nrecall =', rec_a, '\\nf1 =',f1_a)"
   ]
  },
  {
   "cell_type": "code",
   "execution_count": 58,
   "id": "a3adc057",
   "metadata": {},
   "outputs": [],
   "source": [
    "#Naive Bayes\n",
    "\n",
    "clf = MultinomialNB().fit(X_train, train.target)"
   ]
  },
  {
   "cell_type": "code",
   "execution_count": 59,
   "id": "9e538e34",
   "metadata": {},
   "outputs": [],
   "source": [
    "y_pred = clf.predict(X_test)"
   ]
  },
  {
   "cell_type": "code",
   "execution_count": 60,
   "id": "9f8bedd9",
   "metadata": {},
   "outputs": [],
   "source": [
    "df7 = pd.DataFrame({\"Actual\":test.target,\"Predicted\":y_pred})"
   ]
  },
  {
   "cell_type": "code",
   "execution_count": 61,
   "id": "8a90358e",
   "metadata": {},
   "outputs": [
    {
     "data": {
      "text/html": [
       "<div>\n",
       "<style scoped>\n",
       "    .dataframe tbody tr th:only-of-type {\n",
       "        vertical-align: middle;\n",
       "    }\n",
       "\n",
       "    .dataframe tbody tr th {\n",
       "        vertical-align: top;\n",
       "    }\n",
       "\n",
       "    .dataframe thead th {\n",
       "        text-align: right;\n",
       "    }\n",
       "</style>\n",
       "<table border=\"1\" class=\"dataframe\">\n",
       "  <thead>\n",
       "    <tr style=\"text-align: right;\">\n",
       "      <th></th>\n",
       "      <th>Actual</th>\n",
       "      <th>Predicted</th>\n",
       "    </tr>\n",
       "  </thead>\n",
       "  <tbody>\n",
       "    <tr>\n",
       "      <th>0</th>\n",
       "      <td>7</td>\n",
       "      <td>7</td>\n",
       "    </tr>\n",
       "    <tr>\n",
       "      <th>1</th>\n",
       "      <td>5</td>\n",
       "      <td>11</td>\n",
       "    </tr>\n",
       "    <tr>\n",
       "      <th>2</th>\n",
       "      <td>0</td>\n",
       "      <td>0</td>\n",
       "    </tr>\n",
       "    <tr>\n",
       "      <th>3</th>\n",
       "      <td>17</td>\n",
       "      <td>17</td>\n",
       "    </tr>\n",
       "    <tr>\n",
       "      <th>4</th>\n",
       "      <td>19</td>\n",
       "      <td>0</td>\n",
       "    </tr>\n",
       "    <tr>\n",
       "      <th>5</th>\n",
       "      <td>13</td>\n",
       "      <td>13</td>\n",
       "    </tr>\n",
       "    <tr>\n",
       "      <th>6</th>\n",
       "      <td>15</td>\n",
       "      <td>15</td>\n",
       "    </tr>\n",
       "    <tr>\n",
       "      <th>7</th>\n",
       "      <td>15</td>\n",
       "      <td>2</td>\n",
       "    </tr>\n",
       "    <tr>\n",
       "      <th>8</th>\n",
       "      <td>5</td>\n",
       "      <td>5</td>\n",
       "    </tr>\n",
       "    <tr>\n",
       "      <th>9</th>\n",
       "      <td>1</td>\n",
       "      <td>1</td>\n",
       "    </tr>\n",
       "    <tr>\n",
       "      <th>10</th>\n",
       "      <td>2</td>\n",
       "      <td>2</td>\n",
       "    </tr>\n",
       "    <tr>\n",
       "      <th>11</th>\n",
       "      <td>5</td>\n",
       "      <td>5</td>\n",
       "    </tr>\n",
       "    <tr>\n",
       "      <th>12</th>\n",
       "      <td>17</td>\n",
       "      <td>17</td>\n",
       "    </tr>\n",
       "    <tr>\n",
       "      <th>13</th>\n",
       "      <td>8</td>\n",
       "      <td>8</td>\n",
       "    </tr>\n",
       "    <tr>\n",
       "      <th>14</th>\n",
       "      <td>0</td>\n",
       "      <td>15</td>\n",
       "    </tr>\n",
       "    <tr>\n",
       "      <th>15</th>\n",
       "      <td>2</td>\n",
       "      <td>3</td>\n",
       "    </tr>\n",
       "    <tr>\n",
       "      <th>16</th>\n",
       "      <td>4</td>\n",
       "      <td>2</td>\n",
       "    </tr>\n",
       "    <tr>\n",
       "      <th>17</th>\n",
       "      <td>1</td>\n",
       "      <td>1</td>\n",
       "    </tr>\n",
       "    <tr>\n",
       "      <th>18</th>\n",
       "      <td>6</td>\n",
       "      <td>4</td>\n",
       "    </tr>\n",
       "    <tr>\n",
       "      <th>19</th>\n",
       "      <td>16</td>\n",
       "      <td>16</td>\n",
       "    </tr>\n",
       "    <tr>\n",
       "      <th>20</th>\n",
       "      <td>1</td>\n",
       "      <td>15</td>\n",
       "    </tr>\n",
       "    <tr>\n",
       "      <th>21</th>\n",
       "      <td>6</td>\n",
       "      <td>6</td>\n",
       "    </tr>\n",
       "    <tr>\n",
       "      <th>22</th>\n",
       "      <td>17</td>\n",
       "      <td>17</td>\n",
       "    </tr>\n",
       "    <tr>\n",
       "      <th>23</th>\n",
       "      <td>14</td>\n",
       "      <td>14</td>\n",
       "    </tr>\n",
       "    <tr>\n",
       "      <th>24</th>\n",
       "      <td>3</td>\n",
       "      <td>3</td>\n",
       "    </tr>\n",
       "    <tr>\n",
       "      <th>25</th>\n",
       "      <td>13</td>\n",
       "      <td>13</td>\n",
       "    </tr>\n",
       "    <tr>\n",
       "      <th>26</th>\n",
       "      <td>11</td>\n",
       "      <td>11</td>\n",
       "    </tr>\n",
       "    <tr>\n",
       "      <th>27</th>\n",
       "      <td>7</td>\n",
       "      <td>7</td>\n",
       "    </tr>\n",
       "    <tr>\n",
       "      <th>28</th>\n",
       "      <td>7</td>\n",
       "      <td>7</td>\n",
       "    </tr>\n",
       "    <tr>\n",
       "      <th>29</th>\n",
       "      <td>3</td>\n",
       "      <td>14</td>\n",
       "    </tr>\n",
       "  </tbody>\n",
       "</table>\n",
       "</div>"
      ],
      "text/plain": [
       "    Actual  Predicted\n",
       "0        7          7\n",
       "1        5         11\n",
       "2        0          0\n",
       "3       17         17\n",
       "4       19          0\n",
       "5       13         13\n",
       "6       15         15\n",
       "7       15          2\n",
       "8        5          5\n",
       "9        1          1\n",
       "10       2          2\n",
       "11       5          5\n",
       "12      17         17\n",
       "13       8          8\n",
       "14       0         15\n",
       "15       2          3\n",
       "16       4          2\n",
       "17       1          1\n",
       "18       6          4\n",
       "19      16         16\n",
       "20       1         15\n",
       "21       6          6\n",
       "22      17         17\n",
       "23      14         14\n",
       "24       3          3\n",
       "25      13         13\n",
       "26      11         11\n",
       "27       7          7\n",
       "28       7          7\n",
       "29       3         14"
      ]
     },
     "execution_count": 61,
     "metadata": {},
     "output_type": "execute_result"
    }
   ],
   "source": [
    "df7.head(30)"
   ]
  },
  {
   "cell_type": "code",
   "execution_count": 62,
   "id": "0426e460",
   "metadata": {},
   "outputs": [
    {
     "name": "stdout",
     "output_type": "stream",
     "text": [
      "accuracy = 0.813595326606479 \n",
      "precision = 0.84 \n",
      "recall = 0.8 \n",
      "f1 = 0.79\n"
     ]
    }
   ],
   "source": [
    "acc_an = sklearn.metrics.accuracy_score(test.target, y_pred)\n",
    "# precision = ability of classifier not to label as positive a sample that is negative\n",
    "prec_an = round(sklearn.metrics.precision_score(test.target, y_pred,average='macro'),2)\n",
    "# recall = ability of classifier to find all the positive samples\n",
    "rec_an = round(sklearn.metrics.recall_score(test.target, y_pred, average='macro'),2)\n",
    "f1_an = round(sklearn.metrics.f1_score(test.target, y_pred, average='macro'),2)\n",
    "print('accuracy =',acc_an, '\\nprecision =', prec_an, '\\nrecall =', rec_an, '\\nf1 =',f1_an)"
   ]
  },
  {
   "cell_type": "code",
   "execution_count": 63,
   "id": "69bd7a1f",
   "metadata": {},
   "outputs": [],
   "source": [
    "dffa = pd.DataFrame({\"Accuracy\":[acc_a, acc_an], \"Precision\":[prec_a, prec_an], \"recall\":[rec_a, rec_an], \"F1-Score\":[f1_a, f1_an]}, index = [\"Logistic Regression\",\"Naive Bayes\"])"
   ]
  },
  {
   "cell_type": "code",
   "execution_count": 64,
   "id": "1ccc681a",
   "metadata": {},
   "outputs": [
    {
     "data": {
      "text/html": [
       "<div>\n",
       "<style scoped>\n",
       "    .dataframe tbody tr th:only-of-type {\n",
       "        vertical-align: middle;\n",
       "    }\n",
       "\n",
       "    .dataframe tbody tr th {\n",
       "        vertical-align: top;\n",
       "    }\n",
       "\n",
       "    .dataframe thead th {\n",
       "        text-align: right;\n",
       "    }\n",
       "</style>\n",
       "<table border=\"1\" class=\"dataframe\">\n",
       "  <thead>\n",
       "    <tr style=\"text-align: right;\">\n",
       "      <th></th>\n",
       "      <th>Accuracy</th>\n",
       "      <th>Precision</th>\n",
       "      <th>recall</th>\n",
       "      <th>F1-Score</th>\n",
       "    </tr>\n",
       "  </thead>\n",
       "  <tbody>\n",
       "    <tr>\n",
       "      <th>Logistic Regression</th>\n",
       "      <td>0.845459</td>\n",
       "      <td>0.85</td>\n",
       "      <td>0.84</td>\n",
       "      <td>0.84</td>\n",
       "    </tr>\n",
       "    <tr>\n",
       "      <th>Naive Bayes</th>\n",
       "      <td>0.813595</td>\n",
       "      <td>0.84</td>\n",
       "      <td>0.80</td>\n",
       "      <td>0.79</td>\n",
       "    </tr>\n",
       "  </tbody>\n",
       "</table>\n",
       "</div>"
      ],
      "text/plain": [
       "                     Accuracy  Precision  recall  F1-Score\n",
       "Logistic Regression  0.845459       0.85    0.84      0.84\n",
       "Naive Bayes          0.813595       0.84    0.80      0.79"
      ]
     },
     "execution_count": 64,
     "metadata": {},
     "output_type": "execute_result"
    }
   ],
   "source": [
    "dffa"
   ]
  },
  {
   "cell_type": "code",
   "execution_count": 65,
   "id": "0c79fdf6",
   "metadata": {},
   "outputs": [
    {
     "name": "stdout",
     "output_type": "stream",
     "text": [
      "For above we can see logistic regression is better\n"
     ]
    }
   ],
   "source": [
    "print(\"For above we can see logistic regression is better\")"
   ]
  },
  {
   "cell_type": "code",
   "execution_count": null,
   "id": "2528ba26",
   "metadata": {},
   "outputs": [],
   "source": []
  }
 ],
 "metadata": {
  "kernelspec": {
   "display_name": "Python 3 (ipykernel)",
   "language": "python",
   "name": "python3"
  },
  "language_info": {
   "codemirror_mode": {
    "name": "ipython",
    "version": 3
   },
   "file_extension": ".py",
   "mimetype": "text/x-python",
   "name": "python",
   "nbconvert_exporter": "python",
   "pygments_lexer": "ipython3",
   "version": "3.9.7"
  }
 },
 "nbformat": 4,
 "nbformat_minor": 5
}
